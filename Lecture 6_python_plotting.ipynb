{
 "cells": [
  {
   "cell_type": "markdown",
   "id": "7e1b02ed",
   "metadata": {},
   "source": [
    "## Sorting\n",
    "Python lists can be sorted using the built-in `sorted()` function or the `.sort()` method."
   ]
  },
  {
   "cell_type": "code",
   "execution_count": 11,
   "id": "329f93ea",
   "metadata": {},
   "outputs": [
    {
     "name": "stdout",
     "output_type": "stream",
     "text": [
      "Original: [5, 2, 9, 1, 5, 6]\n",
      "Sorted:   [1, 2, 5, 5, 6, 9]\n",
      "Sorted:   [1, 2, 5, 5, 6, 9]\n",
      "Sorted:   [1, 2, 5, 5, 6, 9]\n"
     ]
    }
   ],
   "source": [
    "\n",
    "numbers = [5, 2, 9, 1, 5, 6]\n",
    "print(\"Original:\", numbers)\n",
    "\n",
    "numbers.sort()\n",
    "sorted_numbers = sorted(numbers) # uncomment this line if you want to use sorted() instead of sort()\n",
    "\n",
    "print(\"Sorted:  \", numbers)\n",
    "print(\"Sorted:  \", sorted_numbers)\n",
    "print(\"Sorted:  \", sorted_numbers[::]) # when you uncomment sorted_numbers"
   ]
  },
  {
   "cell_type": "markdown",
   "id": "f285b240",
   "metadata": {},
   "source": [
    "#### Exercise\n",
    "Make an array with 10 elements and sort them. You need to use both sorted() function and .sort() method. And print results from both methods."
   ]
  },
  {
   "cell_type": "code",
   "execution_count": 17,
   "id": "905bd865",
   "metadata": {},
   "outputs": [
    {
     "name": "stdout",
     "output_type": "stream",
     "text": [
      "Sorted: [-12, 1, 3, 7, 8, 10, 14, 19, 45, 129]\n",
      "Sorted: [-12, 1, 3, 7, 8, 10, 14, 19, 45, 129]\n"
     ]
    }
   ],
   "source": [
    "array=[8,10,14,3,45,1,-12,7,19,129]\n",
    "array.sort()\n",
    "print(\"Sorted:\",array)\n",
    "print(\"Sorted:\",sorted(array))"
   ]
  },
  {
   "cell_type": "markdown",
   "id": "a2ab6024",
   "metadata": {},
   "source": [
    "### Lambda Functions in Python\n",
    "A `lambda` function in Python is an anonymous, single-expression function. It is defined using the `lambda` keyword and allows for the creation of small, inline functions without needing to use the def keyword or assign a name. `lambda` functions are particularly useful in situations where a small, one-off function is needed as an argument to a higher-order function (a function that takes other functions as arguments). We will discuss more in future lectures. "
   ]
  },
  {
   "cell_type": "code",
   "execution_count": 35,
   "id": "fbc773ae",
   "metadata": {},
   "outputs": [
    {
     "name": "stdout",
     "output_type": "stream",
     "text": [
      "25\n"
     ]
    }
   ],
   "source": [
    "square = lambda x: x**2\n",
    "print(square(5))  # Output: 25"
   ]
  },
  {
   "cell_type": "markdown",
   "id": "1a4b1196",
   "metadata": {},
   "source": [
    "#### Exercise\n",
    "Write a lambda function that returns the cube of a number."
   ]
  },
  {
   "cell_type": "code",
   "execution_count": 34,
   "id": "1e570775",
   "metadata": {},
   "outputs": [
    {
     "name": "stdout",
     "output_type": "stream",
     "text": [
      "1\n"
     ]
    }
   ],
   "source": [
    "cube=lambda x:x**3 # Your code here\n",
    "print(cube(int(input(\"ENTER A NUMBER\"))))"
   ]
  },
  {
   "cell_type": "markdown",
   "id": "d424f1f7",
   "metadata": {},
   "source": [
    "### Sort a list of tuples using a *lambda* function\n",
    "This section is optional and challenging, so do what you can. "
   ]
  },
  {
   "cell_type": "code",
   "execution_count": 33,
   "id": "62b9ca15",
   "metadata": {},
   "outputs": [
    {
     "name": "stdout",
     "output_type": "stream",
     "text": [
      "Sorted by first element: [(2, 'apple'), (3, 'orange'), (1, 'banana')]\n"
     ]
    }
   ],
   "source": [
    "# Sort a list of tuples using .sort() method.\n",
    "my_list = [(1, 'apple'), (2, 'orange'), (3, 'banana')] # List of tuples\n",
    "my_list.sort(key= lambda item: item[0]) # Sorts by the first element of each tuple\n",
    "print(\"Sorted by first element:\", my_list)\n",
    "# You should change the list an print out the sorted list based on different elements."
   ]
  },
  {
   "cell_type": "code",
   "execution_count": 32,
   "id": "5782c1b0",
   "metadata": {},
   "outputs": [
    {
     "name": "stdout",
     "output_type": "stream",
     "text": [
      "Original items (dict): {'Milk': 4.5, 'Bread': 3.2, 'Eggs': 6.0, 'Cheese': 8.5, 'Fruits': 12.0, 'Vegetables': 10.0, 'Snacks': 9.0, 'Beverages': 7.5}\n",
      "Sorted keys: ['Beverages', 'Bread', 'Cheese', 'Eggs', 'Fruits', 'Milk', 'Snacks', 'Vegetables']\n",
      "Items sorted by value (ascending): [('Bread', 3.2), ('Milk', 4.5), ('Eggs', 6.0), ('Beverages', 7.5), ('Cheese', 8.5), ('Snacks', 9.0), ('Vegetables', 10.0), ('Fruits', 12.0)]\n",
      "Items sorted by value (decending): [('Fruits', 12.0), ('Vegetables', 10.0), ('Snacks', 9.0), ('Cheese', 8.5), ('Beverages', 7.5), ('Eggs', 6.0), ('Milk', 4.5), ('Bread', 3.2)]\n"
     ]
    }
   ],
   "source": [
    "# Sort a dictionary using only the built-in sorted() function.\n",
    "# Show the original dictionary, the sorted keys, and items sorted by value.\n",
    "\n",
    "items = {'Milk': 4.5, 'Bread': 3.2, 'Eggs': 6.0, 'Cheese': 8.5, 'Fruits': 12.0, 'Vegetables': 10.0, 'Snacks': 9.0, 'Beverages': 7.5}\n",
    "\n",
    "# Print the original dictionary\n",
    "print(\"Original items (dict):\", items)\n",
    "\n",
    "# sorted() on a dict returns a sorted list of keys by default\n",
    "sorted_keys = sorted(items)\n",
    "print(\"Sorted keys:\", sorted_keys)\n",
    "\n",
    "# To sort by values, use sorted() on items() with a key function (still using only sorted())\n",
    "sorted_by_value = sorted(items.items(), key=lambda kv: kv[1]) # Always acending. Need to use lambda function. \n",
    "sorted_by_value_decending = sorted(items.items(), key= lambda kv:kv[1], reverse = True) # Need to add reverse = True\n",
    "print(\"Items sorted by value (ascending):\", sorted_by_value)\n",
    "print(\"Items sorted by value (decending):\", sorted_by_value_decending)"
   ]
  },
  {
   "cell_type": "markdown",
   "id": "6c19290e",
   "metadata": {},
   "source": [
    "## Use NumPy to creating arrays: `array`, `linspace`, `arange`, helpers"
   ]
  },
  {
   "cell_type": "code",
   "execution_count": 31,
   "id": "8c1040d7",
   "metadata": {},
   "outputs": [
    {
     "name": "stdout",
     "output_type": "stream",
     "text": [
      "a      = [1.2 3.5 5.4 7.1]\n",
      "lin    = [0.  0.5 1.  1.5 2.  2.5 3.  3.5 4.  4.5 5. ]\n",
      "arange = [0.  0.5 1.  1.5 2.  2.5 3.  3.5 4.  4.5]\n",
      "zeros:\n",
      "[[0. 0. 0.]\n",
      " [0. 0. 0.]]\n",
      "ones:\n",
      "[[1. 1.]\n",
      " [1. 1.]\n",
      " [1. 1.]]\n",
      "eye:\n",
      "[[1. 0. 0.]\n",
      " [0. 1. 0.]\n",
      " [0. 0. 1.]]\n"
     ]
    }
   ],
   "source": [
    "# Please note that I intentionally did not add comments. \n",
    "# Add comments to code in this notebook.\n",
    "\n",
    "import numpy as np\n",
    "\n",
    "# 1D arrays\n",
    "a = np.array([1.2, 3.5, 5.4, 7.1], dtype=float)\n",
    "x_lin = np.linspace(0.0, 5.0, 11)     # inclusive ends\n",
    "x_rng = np.arange(0.0, 5.0, 0.5)      # half-open [start, end)\n",
    "\n",
    "print('a      =', a)\n",
    "print('lin    =', x_lin)\n",
    "print('arange =', x_rng)\n",
    "\n",
    "# 2D helpers\n",
    "Z = np.zeros((2,3))\n",
    "O = np.ones((3,2))\n",
    "I = np.eye(3)\n",
    "print('zeros:') \n",
    "print(Z)\n",
    "print('ones:')  \n",
    "print(O)\n",
    "print('eye:')\n",
    "print(I)\n"
   ]
  },
  {
   "cell_type": "markdown",
   "id": "c0399332",
   "metadata": {},
   "source": [
    "### Exercise\n",
    "Use `array`, `linspace`, `arange`, `zeros`, `ones`, and `eye` to create at least one matrix with each function"
   ]
  },
  {
   "cell_type": "code",
   "execution_count": null,
   "id": "d8c444fe",
   "metadata": {},
   "outputs": [],
   "source": [
    "# Your code here\n"
   ]
  },
  {
   "cell_type": "markdown",
   "id": "07b7fd76",
   "metadata": {},
   "source": [
    "### Use append to add elements to an array"
   ]
  },
  {
   "cell_type": "code",
   "execution_count": 30,
   "id": "c962a72d",
   "metadata": {},
   "outputs": [
    {
     "name": "stdout",
     "output_type": "stream",
     "text": [
      "[1 2 3]\n",
      "[1 2 3 4 5]\n"
     ]
    }
   ],
   "source": [
    "import numpy as np\n",
    "\n",
    "# Existing array\n",
    "old_arr = np.array([1, 2, 3])\n",
    "print(old_arr)\n",
    "\n",
    "# Append elements\n",
    "new_arr = np.append(old_arr, [4, 5])\n",
    "print(new_arr)\n",
    "\n",
    "# Try to add more elements to new_array using append and print them out.\n"
   ]
  },
  {
   "cell_type": "markdown",
   "id": "8bc62dc7",
   "metadata": {},
   "source": [
    "#### Exercise\n",
    "Use append to add 10 elements (of your choice) to arrays made by linspace. You MUST use a loop to complete this exercise."
   ]
  },
  {
   "cell_type": "code",
   "execution_count": null,
   "id": "72164436",
   "metadata": {},
   "outputs": [],
   "source": [
    "# Your code here. \n"
   ]
  },
  {
   "cell_type": "markdown",
   "id": "c39cf7b8",
   "metadata": {},
   "source": [
    "#### Exercise\n",
    "Use a loop and append to add elements to array append_arr, whose dimensions are not declared intially.\n"
   ]
  },
  {
   "cell_type": "code",
   "execution_count": null,
   "id": "ade891c5",
   "metadata": {},
   "outputs": [],
   "source": [
    "# Your code here\n"
   ]
  },
  {
   "cell_type": "markdown",
   "id": "9a0a315a",
   "metadata": {},
   "source": [
    "## Basic 2D Plotting"
   ]
  },
  {
   "cell_type": "code",
   "execution_count": 37,
   "id": "1fd7a30f",
   "metadata": {},
   "outputs": [
    {
     "name": "stdout",
     "output_type": "stream",
     "text": [
      "Collecting matplotlib\n",
      "  Downloading matplotlib-3.10.7-cp311-cp311-win_amd64.whl.metadata (11 kB)\n",
      "Collecting contourpy>=1.0.1 (from matplotlib)\n",
      "  Downloading contourpy-1.3.3-cp311-cp311-win_amd64.whl.metadata (5.5 kB)\n",
      "Collecting cycler>=0.10 (from matplotlib)\n",
      "  Downloading cycler-0.12.1-py3-none-any.whl.metadata (3.8 kB)\n",
      "Collecting fonttools>=4.22.0 (from matplotlib)\n",
      "  Downloading fonttools-4.60.1-cp311-cp311-win_amd64.whl.metadata (114 kB)\n",
      "     ---------------------------------------- 0.0/114.6 kB ? eta -:--:--\n",
      "     -------------------- ------------------ 61.4/114.6 kB 3.2 MB/s eta 0:00:01\n",
      "     -------------------------------------- 114.6/114.6 kB 2.2 MB/s eta 0:00:00\n",
      "Collecting kiwisolver>=1.3.1 (from matplotlib)\n",
      "  Downloading kiwisolver-1.4.9-cp311-cp311-win_amd64.whl.metadata (6.4 kB)\n",
      "Requirement already satisfied: numpy>=1.23 in c:\\users\\rocks\\appdata\\local\\packages\\pythonsoftwarefoundation.python.3.11_qbz5n2kfra8p0\\localcache\\local-packages\\python311\\site-packages (from matplotlib) (2.3.3)\n",
      "Requirement already satisfied: packaging>=20.0 in c:\\users\\rocks\\appdata\\local\\packages\\pythonsoftwarefoundation.python.3.11_qbz5n2kfra8p0\\localcache\\local-packages\\python311\\site-packages (from matplotlib) (25.0)\n",
      "Collecting pillow>=8 (from matplotlib)\n",
      "  Downloading pillow-11.3.0-cp311-cp311-win_amd64.whl.metadata (9.2 kB)\n",
      "Collecting pyparsing>=3 (from matplotlib)\n",
      "  Downloading pyparsing-3.2.5-py3-none-any.whl.metadata (5.0 kB)\n",
      "Requirement already satisfied: python-dateutil>=2.7 in c:\\users\\rocks\\appdata\\local\\packages\\pythonsoftwarefoundation.python.3.11_qbz5n2kfra8p0\\localcache\\local-packages\\python311\\site-packages (from matplotlib) (2.9.0.post0)\n",
      "Requirement already satisfied: six>=1.5 in c:\\users\\rocks\\appdata\\local\\packages\\pythonsoftwarefoundation.python.3.11_qbz5n2kfra8p0\\localcache\\local-packages\\python311\\site-packages (from python-dateutil>=2.7->matplotlib) (1.17.0)\n",
      "Downloading matplotlib-3.10.7-cp311-cp311-win_amd64.whl (8.1 MB)\n",
      "   ---------------------------------------- 0.0/8.1 MB ? eta -:--:--\n",
      "   ------- -------------------------------- 1.5/8.1 MB 32.2 MB/s eta 0:00:01\n",
      "   ------------------------- -------------- 5.1/8.1 MB 54.4 MB/s eta 0:00:01\n",
      "   ------------------------------------- -- 7.5/8.1 MB 53.5 MB/s eta 0:00:01\n",
      "   ---------------------------------------  8.1/8.1 MB 57.4 MB/s eta 0:00:01\n",
      "   ---------------------------------------- 8.1/8.1 MB 39.9 MB/s eta 0:00:00\n",
      "Downloading contourpy-1.3.3-cp311-cp311-win_amd64.whl (225 kB)\n",
      "   ---------------------------------------- 0.0/225.2 kB ? eta -:--:--\n",
      "   --------------------------------------- 225.2/225.2 kB 13.4 MB/s eta 0:00:00\n",
      "Downloading cycler-0.12.1-py3-none-any.whl (8.3 kB)\n",
      "Downloading fonttools-4.60.1-cp311-cp311-win_amd64.whl (2.3 MB)\n",
      "   ---------------------------------------- 0.0/2.3 MB ? eta -:--:--\n",
      "   ---------------------------------------  2.3/2.3 MB 73.0 MB/s eta 0:00:01\n",
      "   ---------------------------------------- 2.3/2.3 MB 49.3 MB/s eta 0:00:00\n",
      "Downloading kiwisolver-1.4.9-cp311-cp311-win_amd64.whl (73 kB)\n",
      "   ---------------------------------------- 0.0/73.8 kB ? eta -:--:--\n",
      "   ---------------------------------------- 73.8/73.8 kB 4.0 MB/s eta 0:00:00\n",
      "Downloading pillow-11.3.0-cp311-cp311-win_amd64.whl (7.0 MB)\n",
      "   ---------------------------------------- 0.0/7.0 MB ? eta -:--:--\n",
      "   --------------------- ------------------ 3.8/7.0 MB 80.6 MB/s eta 0:00:01\n",
      "   ------------------------------------- -- 6.6/7.0 MB 70.3 MB/s eta 0:00:01\n",
      "   ---------------------------------------  7.0/7.0 MB 74.2 MB/s eta 0:00:01\n",
      "   ---------------------------------------- 7.0/7.0 MB 44.7 MB/s eta 0:00:00\n",
      "Downloading pyparsing-3.2.5-py3-none-any.whl (113 kB)\n",
      "   ---------------------------------------- 0.0/113.9 kB ? eta -:--:--\n",
      "   ---------------------------------------- 113.9/113.9 kB 6.9 MB/s eta 0:00:00\n",
      "Installing collected packages: pyparsing, pillow, kiwisolver, fonttools, cycler, contourpy, matplotlib\n",
      "Successfully installed contourpy-1.3.3 cycler-0.12.1 fonttools-4.60.1 kiwisolver-1.4.9 matplotlib-3.10.7 pillow-11.3.0 pyparsing-3.2.5\n",
      "Note: you may need to restart the kernel to use updated packages.\n"
     ]
    },
    {
     "name": "stderr",
     "output_type": "stream",
     "text": [
      "\n",
      "[notice] A new release of pip is available: 24.0 -> 25.2\n",
      "[notice] To update, run: C:\\Users\\rocks\\AppData\\Local\\Microsoft\\WindowsApps\\PythonSoftwareFoundation.Python.3.11_qbz5n2kfra8p0\\python.exe -m pip install --upgrade pip\n",
      "Matplotlib is building the font cache; this may take a moment.\n"
     ]
    },
    {
     "data": {
      "image/png": "[encoded data removed]",
      "text/plain": [
       "<Figure size 640x480 with 1 Axes>"
      ]
     },
     "metadata": {},
     "output_type": "display_data"
    }
   ],
   "source": [
    "%pip install matplotlib\n",
    "\n",
    "# Try comment out the lines of code below and run it to see the plot\n",
    "# So you can see how the plot changes\n",
    "# Add comments to explain what each line does\n",
    "import matplotlib.pyplot as plt\n",
    "import numpy as np\n",
    "x = np.linspace(-5, 5, 100) # Change the range and number of points to see what happens\n",
    "y = x**2\n",
    "plt.plot(x, y)\n",
    "plt.title(\"Parabola: $y=x^2$\")\n",
    "plt.xlabel(\"x-axis\")\n",
    "plt.ylabel(\"y-axis\")\n",
    "plt.grid()\n",
    "# plt.xlim(0, 5)  # Uncomment to limit x-axis from 0 to 5\n",
    "# plt.ylim(0, 25) # Uncomment to limit y-axis from 0 to 25\n",
    "plt.axhline(0, color='red',linewidth=0.5, ls='--')\n",
    "plt.show()"
   ]
  },
  {
   "cell_type": "markdown",
   "id": "58ef2db9",
   "metadata": {},
   "source": [
    "#### Exercise\n",
    "Make a 2D plot for a function of your choice. i.e., Make up a function y= f(x) and plot it. "
   ]
  },
  {
   "cell_type": "code",
   "execution_count": null,
   "id": "bf40579a",
   "metadata": {},
   "outputs": [],
   "source": [
    "# Your code here\n"
   ]
  },
  {
   "cell_type": "markdown",
   "id": "f0fee40a",
   "metadata": {},
   "source": [
    "## Multiple 2D Plot Types"
   ]
  },
  {
   "cell_type": "code",
   "execution_count": null,
   "id": "ce3eacd6",
   "metadata": {},
   "outputs": [],
   "source": [
    "# Try comment out the lines of code below and run it to see the plot\n",
    "# So you can see how the plot changes\n",
    "# Add comments to explain what each line does\n",
    "import matplotlib.pyplot as plt\n",
    "import numpy as np\n",
    "x = np.arange(0, 11)\n",
    "# y= x**2\n",
    "y = np.power(x, 2)\n",
    "\n",
    "plt.figure(figsize=(14, 8))\n",
    "plt.subplot(2, 3, 1); plt.plot(x, y); plt.title('Plot'); plt.grid()\n",
    "plt.subplot(2, 3, 2); plt.scatter(x, y); plt.title('Scatter'); plt.grid()\n",
    "plt.subplot(2, 3, 3); plt.bar(x, y); plt.title('Bar'); plt.grid()\n",
    "plt.subplot(2, 3, 4); plt.loglog(x, y); plt.title('Loglog'); plt.grid()\n",
    "plt.subplot(2, 3, 5); plt.semilogx(x, y); plt.title('Semilogx'); plt.grid()\n",
    "plt.subplot(2, 3, 6); plt.semilogy(x, y); plt.title('Semilogy'); plt.grid()\n",
    "plt.tight_layout()\n",
    "plt.show()\n"
   ]
  },
  {
   "cell_type": "markdown",
   "id": "58997f45",
   "metadata": {},
   "source": [
    "#### Exercise\n",
    "Write a function that returns y = sin(x) + cos(2x).\n",
    "Plot results from -10 to 10 in a line plot"
   ]
  },
  {
   "cell_type": "code",
   "execution_count": null,
   "id": "5b0b622d",
   "metadata": {},
   "outputs": [],
   "source": [
    "# Your code here.\n"
   ]
  },
  {
   "cell_type": "markdown",
   "id": "eccacedd",
   "metadata": {},
   "source": [
    "#### Exercise\n",
    "Plot function f(x) = sin(x) + cos(2x)\n",
    "Create a subplot comparing line, scatter, and bar using subplots."
   ]
  },
  {
   "cell_type": "code",
   "execution_count": null,
   "id": "3e9cd2d1",
   "metadata": {},
   "outputs": [],
   "source": [
    "# Your code here"
   ]
  },
  {
   "cell_type": "markdown",
   "id": "f34bcb9f",
   "metadata": {},
   "source": [
    "#### Exercise\n",
    "Recall lecture 4 exercises. Combine your code for the Simple Harmonic Motion Tracker and plot the results. \n",
    "Problems like this will appear in exams. "
   ]
  },
  {
   "cell_type": "code",
   "execution_count": null,
   "id": "318d95b5",
   "metadata": {},
   "outputs": [],
   "source": [
    "# Your code here\n"
   ]
  },
  {
   "cell_type": "markdown",
   "id": "98bb663b",
   "metadata": {},
   "source": [
    "## 3D Plotting Examples\n",
    "This section is optional. Proceed if you are interested."
   ]
  },
  {
   "cell_type": "code",
   "execution_count": null,
   "id": "a7818262",
   "metadata": {},
   "outputs": [],
   "source": [
    "# Create a 3D parametric plot for x=cos⁡(t),y=sin⁡(t),z=t\n",
    "import numpy as np\n",
    "import matplotlib.pyplot as plt\n",
    "\n",
    "\n",
    "fig = plt.figure()\n",
    "ax = fig.add_subplot(111, projection='3d')\n",
    "t = np.linspace(0, 10*np.pi, 500)\n",
    "x = np.sin(t)\n",
    "y = np.cos(t)\n",
    "ax.plot3D(x, y, t)\n",
    "ax.set_title(\"3D Parametric Plot\")\n",
    "plt.show()\n"
   ]
  },
  {
   "cell_type": "code",
   "execution_count": null,
   "id": "bf7906fe",
   "metadata": {},
   "outputs": [],
   "source": [
    "# 3D surface plot of Z=exp(−X^2−Y^2)- Gaussian Function\n",
    "import numpy as np\n",
    "import matplotlib.pyplot as plt\n",
    "from mpl_toolkits.mplot3d import Axes3D\n",
    "\n",
    "# Create grid\n",
    "x = np.linspace(-5, 5, 100)\n",
    "y = np.linspace(-5, 5, 100)\n",
    "X, Y = np.meshgrid(x, y)\n",
    "\n",
    "# Compute Z\n",
    "Z = np.exp(-X**2 - Y**2) # Z=exp(−X^2−Y^2)- Gaussian Function\n",
    "\n",
    "# Plot\n",
    "fig = plt.figure(figsize=(10, 8))\n",
    "ax = fig.add_subplot(111, projection='3d')\n",
    "surf = ax.plot_surface(X, Y, Z, cmap='viridis')\n",
    "\n",
    "# Labels and title\n",
    "ax.set_title('z = exp(-x² - y²))')\n",
    "ax.set_xlabel('X')\n",
    "ax.set_ylabel('Y')\n",
    "ax.set_zlabel('Z')\n",
    "\n",
    "# Colorbar\n",
    "fig.colorbar(surf, shrink=0.5, aspect=10)\n",
    "\n",
    "plt.show()\n"
   ]
  },
  {
   "cell_type": "markdown",
   "id": "7eb6b114",
   "metadata": {},
   "source": [
    "#### Optional exercises: "
   ]
  },
  {
   "cell_type": "code",
   "execution_count": null,
   "id": "e17d5b4f",
   "metadata": {},
   "outputs": [],
   "source": [
    "# Your code here. \n",
    "# Make a 3D surface plot for function z=sin(x)⋅cos(y)\n",
    "# Plot range -5 to 5"
   ]
  },
  {
   "cell_type": "code",
   "execution_count": null,
   "id": "fb174fbe",
   "metadata": {},
   "outputs": [],
   "source": [
    "# Your code here\n",
    "# Make a 3D surface plot for function z=sin(sqrt(x^2+y^2)​)\n",
    "# Plot range -6 to 6\n"
   ]
  }
 ],
 "metadata": {
  "kernelspec": {
   "display_name": "Python 3",
   "language": "python",
   "name": "python3"
  },
  "language_info": {
   "codemirror_mode": {
    "name": "ipython",
    "version": 3
   },
   "file_extension": ".py",
   "mimetype": "text/x-python",
   "name": "python",
   "nbconvert_exporter": "python",
   "pygments_lexer": "ipython3",
   "version": "3.11.9"
  }
 },
 "nbformat": 4,
 "nbformat_minor": 5
}
